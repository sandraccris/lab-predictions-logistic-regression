{
 "cells": [
  {
   "cell_type": "markdown",
   "id": "93d4c84c",
   "metadata": {},
   "source": [
    "# Logistic Regression Model to Predict Which Film Will Be Rented Next Month"
   ]
  },
  {
   "cell_type": "code",
   "execution_count": 1,
   "id": "549512c6",
   "metadata": {},
   "outputs": [],
   "source": [
    "import pymysql\n",
    "from sqlalchemy import create_engine\n",
    "import pandas as pd\n",
    "import getpass \n",
    "\n",
    "from sklearn.preprocessing import StandardScaler\n",
    "import matplotlib\n",
    "import matplotlib.pyplot as plt\n",
    "import seaborn as sns\n",
    "import numpy as np\n",
    "import warnings\n",
    "warnings.filterwarnings('ignore')\n",
    "\n",
    "\n",
    "from sklearn.preprocessing import OneHotEncoder\n",
    "from sklearn.model_selection import train_test_split      \n",
    "from sklearn.linear_model import LogisticRegression   \n",
    "\n",
    "#%matplotlib inline"
   ]
  },
  {
   "cell_type": "code",
   "execution_count": 2,
   "id": "f7abb620",
   "metadata": {},
   "outputs": [
    {
     "name": "stdout",
     "output_type": "stream",
     "text": [
      "········\n"
     ]
    }
   ],
   "source": [
    "password = getpass.getpass()\n",
    "connection_string = 'mysql+pymysql://root:' + password + '@localhost/sakila'\n",
    "engine = create_engine(connection_string)"
   ]
  },
  {
   "cell_type": "code",
   "execution_count": 3,
   "id": "e7b5d5b3",
   "metadata": {},
   "outputs": [],
   "source": [
    "# Create a query to extract relevent information to build the prediction model.\n",
    "\n",
    "query = '''SELECT f.film_id, title, c.name as category_name, f.rating, f.length, f.rental_duration, f.special_features, f.rental_rate, f.release_year, total_rentings\n",
    "FROM (SELECT count(rental_date) as total_rentings, i.film_id\n",
    "      FROM rental as r\n",
    "      JOIN inventory as i\n",
    "      USING (inventory_id)\n",
    "      GROUP BY film_id\n",
    ") t\n",
    "RIGHT JOIN film as f\n",
    "USING (film_id)\n",
    "LEFT JOIN film_category as fa\n",
    "USING (film_id)\n",
    "LEFT JOIN category as c\n",
    "USING (category_id);\n",
    "'''"
   ]
  },
  {
   "cell_type": "code",
   "execution_count": 4,
   "id": "2488a2fc",
   "metadata": {
    "scrolled": true
   },
   "outputs": [
    {
     "data": {
      "text/html": [
       "<div>\n",
       "<style scoped>\n",
       "    .dataframe tbody tr th:only-of-type {\n",
       "        vertical-align: middle;\n",
       "    }\n",
       "\n",
       "    .dataframe tbody tr th {\n",
       "        vertical-align: top;\n",
       "    }\n",
       "\n",
       "    .dataframe thead th {\n",
       "        text-align: right;\n",
       "    }\n",
       "</style>\n",
       "<table border=\"1\" class=\"dataframe\">\n",
       "  <thead>\n",
       "    <tr style=\"text-align: right;\">\n",
       "      <th></th>\n",
       "      <th>film_id</th>\n",
       "      <th>title</th>\n",
       "      <th>category_name</th>\n",
       "      <th>rating</th>\n",
       "      <th>length</th>\n",
       "      <th>rental_duration</th>\n",
       "      <th>special_features</th>\n",
       "      <th>rental_rate</th>\n",
       "      <th>release_year</th>\n",
       "      <th>total_rentings</th>\n",
       "    </tr>\n",
       "  </thead>\n",
       "  <tbody>\n",
       "    <tr>\n",
       "      <th>0</th>\n",
       "      <td>1</td>\n",
       "      <td>ACADEMY DINOSAUR</td>\n",
       "      <td>Documentary</td>\n",
       "      <td>PG</td>\n",
       "      <td>86</td>\n",
       "      <td>6</td>\n",
       "      <td>Deleted Scenes,Behind the Scenes</td>\n",
       "      <td>0.99</td>\n",
       "      <td>2006</td>\n",
       "      <td>24.0</td>\n",
       "    </tr>\n",
       "    <tr>\n",
       "      <th>1</th>\n",
       "      <td>2</td>\n",
       "      <td>ACE GOLDFINGER</td>\n",
       "      <td>Horror</td>\n",
       "      <td>G</td>\n",
       "      <td>48</td>\n",
       "      <td>3</td>\n",
       "      <td>Trailers,Deleted Scenes</td>\n",
       "      <td>4.99</td>\n",
       "      <td>2006</td>\n",
       "      <td>7.0</td>\n",
       "    </tr>\n",
       "    <tr>\n",
       "      <th>2</th>\n",
       "      <td>3</td>\n",
       "      <td>ADAPTATION HOLES</td>\n",
       "      <td>Documentary</td>\n",
       "      <td>NC-17</td>\n",
       "      <td>50</td>\n",
       "      <td>7</td>\n",
       "      <td>Trailers,Deleted Scenes</td>\n",
       "      <td>2.99</td>\n",
       "      <td>2006</td>\n",
       "      <td>12.0</td>\n",
       "    </tr>\n",
       "    <tr>\n",
       "      <th>3</th>\n",
       "      <td>4</td>\n",
       "      <td>AFFAIR PREJUDICE</td>\n",
       "      <td>Horror</td>\n",
       "      <td>G</td>\n",
       "      <td>117</td>\n",
       "      <td>5</td>\n",
       "      <td>Commentaries,Behind the Scenes</td>\n",
       "      <td>2.99</td>\n",
       "      <td>2006</td>\n",
       "      <td>23.0</td>\n",
       "    </tr>\n",
       "    <tr>\n",
       "      <th>4</th>\n",
       "      <td>5</td>\n",
       "      <td>AFRICAN EGG</td>\n",
       "      <td>Family</td>\n",
       "      <td>G</td>\n",
       "      <td>130</td>\n",
       "      <td>6</td>\n",
       "      <td>Deleted Scenes</td>\n",
       "      <td>2.99</td>\n",
       "      <td>2006</td>\n",
       "      <td>12.0</td>\n",
       "    </tr>\n",
       "  </tbody>\n",
       "</table>\n",
       "</div>"
      ],
      "text/plain": [
       "   film_id             title category_name rating  length  rental_duration  \\\n",
       "0        1  ACADEMY DINOSAUR   Documentary     PG      86                6   \n",
       "1        2    ACE GOLDFINGER        Horror      G      48                3   \n",
       "2        3  ADAPTATION HOLES   Documentary  NC-17      50                7   \n",
       "3        4  AFFAIR PREJUDICE        Horror      G     117                5   \n",
       "4        5       AFRICAN EGG        Family      G     130                6   \n",
       "\n",
       "                   special_features  rental_rate  release_year  total_rentings  \n",
       "0  Deleted Scenes,Behind the Scenes         0.99          2006            24.0  \n",
       "1           Trailers,Deleted Scenes         4.99          2006             7.0  \n",
       "2           Trailers,Deleted Scenes         2.99          2006            12.0  \n",
       "3    Commentaries,Behind the Scenes         2.99          2006            23.0  \n",
       "4                    Deleted Scenes         2.99          2006            12.0  "
      ]
     },
     "execution_count": 4,
     "metadata": {},
     "output_type": "execute_result"
    }
   ],
   "source": [
    "# Read the data into a Pandas dataframe.\n",
    "\n",
    "data = pd.read_sql_query(query, engine)\n",
    "data.head()"
   ]
  },
  {
   "cell_type": "markdown",
   "id": "0f51c334",
   "metadata": {},
   "source": [
    "## Exploring Data"
   ]
  },
  {
   "cell_type": "code",
   "execution_count": null,
   "id": "3f81dd76",
   "metadata": {},
   "outputs": [],
   "source": [
    "data.shape"
   ]
  },
  {
   "cell_type": "code",
   "execution_count": null,
   "id": "ddf8acde",
   "metadata": {},
   "outputs": [],
   "source": [
    "data.info()"
   ]
  },
  {
   "cell_type": "code",
   "execution_count": null,
   "id": "38a98913",
   "metadata": {},
   "outputs": [],
   "source": [
    "data.film_id.nunique()\n",
    "\n",
    "# 1000 films in total in our dataset"
   ]
  },
  {
   "cell_type": "code",
   "execution_count": null,
   "id": "79eb8593",
   "metadata": {},
   "outputs": [],
   "source": [
    "data.rating.value_counts()"
   ]
  },
  {
   "cell_type": "code",
   "execution_count": null,
   "id": "e1a64ac0",
   "metadata": {},
   "outputs": [],
   "source": [
    "data.release_year.value_counts()\n",
    "\n",
    "# Only 1 value(2006) will drop column later."
   ]
  },
  {
   "cell_type": "code",
   "execution_count": null,
   "id": "b9aa76a9",
   "metadata": {},
   "outputs": [],
   "source": [
    "data.special_features.value_counts()"
   ]
  },
  {
   "cell_type": "code",
   "execution_count": null,
   "id": "b9be5e6f",
   "metadata": {},
   "outputs": [],
   "source": [
    "data.rental_duration.value_counts()"
   ]
  },
  {
   "cell_type": "markdown",
   "id": "5c9f1d5b",
   "metadata": {},
   "source": [
    "## Data Cleaning"
   ]
  },
  {
   "cell_type": "code",
   "execution_count": 5,
   "id": "21b02297",
   "metadata": {},
   "outputs": [],
   "source": [
    "#Changing movie title to lower case using str.title()\n",
    "\n",
    "data['title'] = data['title'].str.title()"
   ]
  },
  {
   "cell_type": "code",
   "execution_count": 6,
   "id": "0cd21286",
   "metadata": {},
   "outputs": [],
   "source": [
    "# Dropping release_year column since it only has 1 single value, therefore not useful to build our model.\n",
    "\n",
    "data.drop([\"release_year\"], axis=1, inplace=True)"
   ]
  },
  {
   "cell_type": "code",
   "execution_count": 7,
   "id": "6612adb4",
   "metadata": {},
   "outputs": [
    {
     "data": {
      "text/plain": [
       "film_id              0\n",
       "title                0\n",
       "category_name        0\n",
       "rating               0\n",
       "length               0\n",
       "rental_duration      0\n",
       "special_features     0\n",
       "rental_rate          0\n",
       "total_rentings      42\n",
       "dtype: int64"
      ]
     },
     "execution_count": 7,
     "metadata": {},
     "output_type": "execute_result"
    }
   ],
   "source": [
    "#Checking nulls\n",
    "\n",
    "data.isna().sum()"
   ]
  },
  {
   "cell_type": "code",
   "execution_count": 8,
   "id": "59b7ecfe",
   "metadata": {},
   "outputs": [],
   "source": [
    "# We have 43 nulls in rentings. It means 43 movies were not rented at all last year.\n",
    "# Replace nulls with 0.\n",
    "\n",
    "data['total_rentings'] = data['total_rentings'].fillna(0.0)"
   ]
  },
  {
   "cell_type": "code",
   "execution_count": 9,
   "id": "67273a54",
   "metadata": {},
   "outputs": [
    {
     "data": {
      "text/plain": [
       "film_id             0\n",
       "title               0\n",
       "category_name       0\n",
       "rating              0\n",
       "length              0\n",
       "rental_duration     0\n",
       "special_features    0\n",
       "rental_rate         0\n",
       "total_rentings      0\n",
       "dtype: int64"
      ]
     },
     "execution_count": 9,
     "metadata": {},
     "output_type": "execute_result"
    }
   ],
   "source": [
    "data.isna().sum()"
   ]
  },
  {
   "cell_type": "markdown",
   "id": "d470ec2f",
   "metadata": {},
   "source": [
    "### Numerical Variables"
   ]
  },
  {
   "cell_type": "code",
   "execution_count": 10,
   "id": "7a251e8a",
   "metadata": {},
   "outputs": [
    {
     "data": {
      "text/html": [
       "<div>\n",
       "<style scoped>\n",
       "    .dataframe tbody tr th:only-of-type {\n",
       "        vertical-align: middle;\n",
       "    }\n",
       "\n",
       "    .dataframe tbody tr th {\n",
       "        vertical-align: top;\n",
       "    }\n",
       "\n",
       "    .dataframe thead th {\n",
       "        text-align: right;\n",
       "    }\n",
       "</style>\n",
       "<table border=\"1\" class=\"dataframe\">\n",
       "  <thead>\n",
       "    <tr style=\"text-align: right;\">\n",
       "      <th></th>\n",
       "      <th>film_id</th>\n",
       "      <th>length</th>\n",
       "      <th>rental_duration</th>\n",
       "      <th>rental_rate</th>\n",
       "      <th>total_rentings</th>\n",
       "    </tr>\n",
       "  </thead>\n",
       "  <tbody>\n",
       "    <tr>\n",
       "      <th>count</th>\n",
       "      <td>1000.000000</td>\n",
       "      <td>1000.000000</td>\n",
       "      <td>1000.000000</td>\n",
       "      <td>1000.000000</td>\n",
       "      <td>1000.00000</td>\n",
       "    </tr>\n",
       "    <tr>\n",
       "      <th>mean</th>\n",
       "      <td>500.500000</td>\n",
       "      <td>115.272000</td>\n",
       "      <td>4.985000</td>\n",
       "      <td>2.980000</td>\n",
       "      <td>16.04500</td>\n",
       "    </tr>\n",
       "    <tr>\n",
       "      <th>std</th>\n",
       "      <td>288.819436</td>\n",
       "      <td>40.426332</td>\n",
       "      <td>1.411654</td>\n",
       "      <td>1.646393</td>\n",
       "      <td>7.34908</td>\n",
       "    </tr>\n",
       "    <tr>\n",
       "      <th>min</th>\n",
       "      <td>1.000000</td>\n",
       "      <td>46.000000</td>\n",
       "      <td>3.000000</td>\n",
       "      <td>0.990000</td>\n",
       "      <td>0.00000</td>\n",
       "    </tr>\n",
       "    <tr>\n",
       "      <th>25%</th>\n",
       "      <td>250.750000</td>\n",
       "      <td>80.000000</td>\n",
       "      <td>4.000000</td>\n",
       "      <td>0.990000</td>\n",
       "      <td>11.00000</td>\n",
       "    </tr>\n",
       "    <tr>\n",
       "      <th>50%</th>\n",
       "      <td>500.500000</td>\n",
       "      <td>114.000000</td>\n",
       "      <td>5.000000</td>\n",
       "      <td>2.990000</td>\n",
       "      <td>16.00000</td>\n",
       "    </tr>\n",
       "    <tr>\n",
       "      <th>75%</th>\n",
       "      <td>750.250000</td>\n",
       "      <td>149.250000</td>\n",
       "      <td>6.000000</td>\n",
       "      <td>4.990000</td>\n",
       "      <td>21.00000</td>\n",
       "    </tr>\n",
       "    <tr>\n",
       "      <th>max</th>\n",
       "      <td>1000.000000</td>\n",
       "      <td>185.000000</td>\n",
       "      <td>7.000000</td>\n",
       "      <td>4.990000</td>\n",
       "      <td>34.00000</td>\n",
       "    </tr>\n",
       "  </tbody>\n",
       "</table>\n",
       "</div>"
      ],
      "text/plain": [
       "           film_id       length  rental_duration  rental_rate  total_rentings\n",
       "count  1000.000000  1000.000000      1000.000000  1000.000000      1000.00000\n",
       "mean    500.500000   115.272000         4.985000     2.980000        16.04500\n",
       "std     288.819436    40.426332         1.411654     1.646393         7.34908\n",
       "min       1.000000    46.000000         3.000000     0.990000         0.00000\n",
       "25%     250.750000    80.000000         4.000000     0.990000        11.00000\n",
       "50%     500.500000   114.000000         5.000000     2.990000        16.00000\n",
       "75%     750.250000   149.250000         6.000000     4.990000        21.00000\n",
       "max    1000.000000   185.000000         7.000000     4.990000        34.00000"
      ]
     },
     "execution_count": 10,
     "metadata": {},
     "output_type": "execute_result"
    }
   ],
   "source": [
    "numerical = data.select_dtypes(include = np.number)\n",
    "numerical.describe()"
   ]
  },
  {
   "cell_type": "markdown",
   "id": "b1211ef5",
   "metadata": {},
   "source": [
    " #### Checking for multicollinearity"
   ]
  },
  {
   "cell_type": "code",
   "execution_count": null,
   "id": "57df256b",
   "metadata": {},
   "outputs": [],
   "source": [
    "#Creating a Correlation plot:\n",
    "\n",
    "correlations_matrix = numerical.corr(method=\"spearman\")\n",
    "correlations_matrix"
   ]
  },
  {
   "cell_type": "code",
   "execution_count": null,
   "id": "adbeedbd",
   "metadata": {},
   "outputs": [],
   "source": [
    "corr_matrix=numerical.corr(method='pearson') \n",
    "fig, ax = plt.subplots(figsize=(10, 8))\n",
    "ax = sns.heatmap(corr_matrix, annot=True)\n",
    "plt.show()"
   ]
  },
  {
   "cell_type": "markdown",
   "id": "c7582927",
   "metadata": {},
   "source": [
    "None of the numerical features have a high correlation with one another. However for our model (logistic regression) we don't need Multicollinearity for the model to perform better."
   ]
  },
  {
   "cell_type": "code",
   "execution_count": null,
   "id": "86bbad75",
   "metadata": {},
   "outputs": [],
   "source": [
    "# Plotting Distribution of numerical features\n",
    "\n",
    "sns.distplot(numerical[\"length\"])\n",
    "sns.displot(numerical[\"rental_duration\"])\n",
    "sns.displot(numerical[\"total_rentings\"])\n",
    "sns.displot(numerical[\"rental_rate\"])"
   ]
  },
  {
   "cell_type": "code",
   "execution_count": null,
   "id": "3e4488ad",
   "metadata": {},
   "outputs": [],
   "source": [
    "# Applying standard scaler to see if we can make \"length\" look more normal distributed\n",
    "\n",
    "transformer = StandardScaler().fit(numerical)\n",
    "num_normalized = transformer.transform(numerical)\n",
    "num_trans = pd.DataFrame(num_normalized)\n",
    "num_trans.columns = numerical.columns\n",
    "num_trans.head()"
   ]
  },
  {
   "cell_type": "code",
   "execution_count": null,
   "id": "712b7e60",
   "metadata": {},
   "outputs": [],
   "source": [
    "sns.distplot(num_trans[\"length\"])\n"
   ]
  },
  {
   "cell_type": "markdown",
   "id": "ce3f3df8",
   "metadata": {},
   "source": [
    "Transforming our numerical variables did not make any difference in distribution. However for our model (logistic regression) we don't need our variables to be normally distributed."
   ]
  },
  {
   "cell_type": "code",
   "execution_count": null,
   "id": "ca095091",
   "metadata": {},
   "outputs": [],
   "source": [
    "#numerical2=numerical.copy()"
   ]
  },
  {
   "cell_type": "code",
   "execution_count": null,
   "id": "f497c8f6",
   "metadata": {},
   "outputs": [],
   "source": [
    "#Applying MinMaxScaler to see if it makes any difference to our model\n",
    "\n",
    "#from sklearn.preprocessing import MinMaxScaler\n",
    "#transformer = MinMaxScaler().fit(numerical2)\n",
    "#num_normalized = transformer.transform(numerical2)\n",
    "#num_normalized = pd.DataFrame(num_normalized)\n",
    "#num_normalized.describe()"
   ]
  },
  {
   "cell_type": "markdown",
   "id": "ee00d11e",
   "metadata": {},
   "source": [
    "### Categorical Variables"
   ]
  },
  {
   "cell_type": "code",
   "execution_count": 11,
   "id": "f851513b",
   "metadata": {},
   "outputs": [
    {
     "data": {
      "text/html": [
       "<div>\n",
       "<style scoped>\n",
       "    .dataframe tbody tr th:only-of-type {\n",
       "        vertical-align: middle;\n",
       "    }\n",
       "\n",
       "    .dataframe tbody tr th {\n",
       "        vertical-align: top;\n",
       "    }\n",
       "\n",
       "    .dataframe thead th {\n",
       "        text-align: right;\n",
       "    }\n",
       "</style>\n",
       "<table border=\"1\" class=\"dataframe\">\n",
       "  <thead>\n",
       "    <tr style=\"text-align: right;\">\n",
       "      <th></th>\n",
       "      <th>title</th>\n",
       "      <th>category_name</th>\n",
       "      <th>rating</th>\n",
       "      <th>special_features</th>\n",
       "    </tr>\n",
       "  </thead>\n",
       "  <tbody>\n",
       "    <tr>\n",
       "      <th>0</th>\n",
       "      <td>Academy Dinosaur</td>\n",
       "      <td>Documentary</td>\n",
       "      <td>PG</td>\n",
       "      <td>Deleted Scenes,Behind the Scenes</td>\n",
       "    </tr>\n",
       "    <tr>\n",
       "      <th>1</th>\n",
       "      <td>Ace Goldfinger</td>\n",
       "      <td>Horror</td>\n",
       "      <td>G</td>\n",
       "      <td>Trailers,Deleted Scenes</td>\n",
       "    </tr>\n",
       "    <tr>\n",
       "      <th>2</th>\n",
       "      <td>Adaptation Holes</td>\n",
       "      <td>Documentary</td>\n",
       "      <td>NC-17</td>\n",
       "      <td>Trailers,Deleted Scenes</td>\n",
       "    </tr>\n",
       "    <tr>\n",
       "      <th>3</th>\n",
       "      <td>Affair Prejudice</td>\n",
       "      <td>Horror</td>\n",
       "      <td>G</td>\n",
       "      <td>Commentaries,Behind the Scenes</td>\n",
       "    </tr>\n",
       "    <tr>\n",
       "      <th>4</th>\n",
       "      <td>African Egg</td>\n",
       "      <td>Family</td>\n",
       "      <td>G</td>\n",
       "      <td>Deleted Scenes</td>\n",
       "    </tr>\n",
       "  </tbody>\n",
       "</table>\n",
       "</div>"
      ],
      "text/plain": [
       "              title category_name rating                  special_features\n",
       "0  Academy Dinosaur   Documentary     PG  Deleted Scenes,Behind the Scenes\n",
       "1    Ace Goldfinger        Horror      G           Trailers,Deleted Scenes\n",
       "2  Adaptation Holes   Documentary  NC-17           Trailers,Deleted Scenes\n",
       "3  Affair Prejudice        Horror      G    Commentaries,Behind the Scenes\n",
       "4       African Egg        Family      G                    Deleted Scenes"
      ]
     },
     "execution_count": 11,
     "metadata": {},
     "output_type": "execute_result"
    }
   ],
   "source": [
    "#Get categorical data\n",
    "\n",
    "cat = data.select_dtypes(include = np.object)\n",
    "cat.head()"
   ]
  },
  {
   "cell_type": "code",
   "execution_count": null,
   "id": "faa172d6",
   "metadata": {},
   "outputs": [],
   "source": []
  },
  {
   "cell_type": "markdown",
   "id": "0c61a1e5",
   "metadata": {},
   "source": [
    "#### Categorical Variables Visualization"
   ]
  },
  {
   "cell_type": "code",
   "execution_count": 12,
   "id": "588a2a9a",
   "metadata": {},
   "outputs": [],
   "source": [
    "# TARGET VARIABLE: creating a function to assign 0 as not rented at all last year (between 2006-02-14  - 2005-05-24) and 1 as rented last year.\n",
    "# Has the movie been rented last year? (binary: “1”, means “Yes”, “0” means “No”)\n",
    "\n",
    "rentals = []\n",
    "\n",
    "for row in data['total_rentings']:\n",
    "    if row == 0:\n",
    "        rentals.append(0)\n",
    "    else:\n",
    "        rentals.append(1)   "
   ]
  },
  {
   "cell_type": "code",
   "execution_count": 13,
   "id": "33cf8bbf",
   "metadata": {},
   "outputs": [],
   "source": [
    "# adding rentals list as a column in our dataset. This column will be our target variable.\n",
    "\n",
    "data['rentals'] = rentals"
   ]
  },
  {
   "cell_type": "code",
   "execution_count": 14,
   "id": "0df10838",
   "metadata": {},
   "outputs": [
    {
     "data": {
      "text/plain": [
       "1    958\n",
       "0     42\n",
       "Name: rentals, dtype: int64"
      ]
     },
     "execution_count": 14,
     "metadata": {},
     "output_type": "execute_result"
    }
   ],
   "source": [
    "data.rentals.value_counts()\n",
    "\n",
    "# Since all the movies were rented at least once last year, I am going to calculate the median of total_rentings and establish that above median is  "
   ]
  },
  {
   "cell_type": "code",
   "execution_count": 15,
   "id": "0410ed7b",
   "metadata": {
    "scrolled": true
   },
   "outputs": [
    {
     "data": {
      "image/png": "[encoded data removed]",
      "text/plain": [
       "<Figure size 640x480 with 1 Axes>"
      ]
     },
     "metadata": {},
     "output_type": "display_data"
    }
   ],
   "source": [
    "sns.countplot(x=data['rentals'], data=data, palette='hls')\n",
    "plt.show()"
   ]
  },
  {
   "cell_type": "markdown",
   "id": "16595e72",
   "metadata": {},
   "source": [
    "We can see our data is severely imbalanced, therefore it could cause our prediction model to be biased towards the most common class, in this case \"1\" - film rented last year."
   ]
  },
  {
   "cell_type": "code",
   "execution_count": null,
   "id": "31bab369",
   "metadata": {},
   "outputs": [],
   "source": [
    "#lets visualize our categorical independent variables against our Target \"rentals\"\n",
    "\n",
    "table=pd.crosstab(data.special_features,data.rentals)\n",
    "table.div(table.sum(1).astype(float), axis=0).plot(kind='bar', stacked=True)\n",
    "plt.title('Special Features vs Last Year Rental')\n",
    "plt.xlabel('Special Features')\n",
    "plt.ylabel('Last_Year_Rental')\n",
    "plt.figure(figsize=(10,6))\n",
    "\n",
    "#Special Features might be a good predictor of our target variable."
   ]
  },
  {
   "cell_type": "code",
   "execution_count": null,
   "id": "766c6cd8",
   "metadata": {},
   "outputs": [],
   "source": [
    "pd.crosstab(data.rating,rentals).plot(kind='bar')\n",
    "plt.title('Film Rating vs Last Year Rental')\n",
    "plt.xlabel('Rating')\n",
    "plt.ylabel('Last Year Rental')\n",
    "\n",
    "#Film Rating may not be a good predictor of our target variable."
   ]
  },
  {
   "cell_type": "code",
   "execution_count": null,
   "id": "49300851",
   "metadata": {},
   "outputs": [],
   "source": [
    "pd.crosstab(data.category_name,data.rentals).plot(kind='bar')\n",
    "plt.title('Film Category vs Last Year Rental')\n",
    "plt.xlabel('category_name')\n",
    "plt.ylabel('Last Year Rental')\n",
    "\n",
    "\n",
    "# Film Category might be a good predictor of our target variable."
   ]
  },
  {
   "cell_type": "markdown",
   "id": "93d9e2ce",
   "metadata": {},
   "source": [
    "#### Encoding Categoricals (Using ONEHOTENCODER)\n"
   ]
  },
  {
   "cell_type": "code",
   "execution_count": 16,
   "id": "dbbd4500",
   "metadata": {},
   "outputs": [],
   "source": [
    "cat = cat.drop(['title'], axis=1) "
   ]
  },
  {
   "cell_type": "code",
   "execution_count": null,
   "id": "8cced1ca",
   "metadata": {},
   "outputs": [],
   "source": [
    "#Using GETDUMMIES\n",
    "#categorical = pd.get_dummies(cat, columns=['category_name', 'rating', 'special_features'])\n",
    "#categorical.head()"
   ]
  },
  {
   "cell_type": "code",
   "execution_count": 17,
   "id": "21062928",
   "metadata": {},
   "outputs": [
    {
     "data": {
      "text/plain": [
       "OneHotEncoder(drop='first')"
      ]
     },
     "execution_count": 17,
     "metadata": {},
     "output_type": "execute_result"
    }
   ],
   "source": [
    "encoder = OneHotEncoder(handle_unknown='error', drop='first')\n",
    "encoder.fit(cat)"
   ]
  },
  {
   "cell_type": "code",
   "execution_count": 18,
   "id": "cd28dc9c",
   "metadata": {},
   "outputs": [],
   "source": [
    "encoded = encoder.transform(cat).toarray() \n",
    "categorical = pd.DataFrame(encoded)"
   ]
  },
  {
   "cell_type": "code",
   "execution_count": 19,
   "id": "ee364769",
   "metadata": {},
   "outputs": [
    {
     "data": {
      "text/html": [
       "<div>\n",
       "<style scoped>\n",
       "    .dataframe tbody tr th:only-of-type {\n",
       "        vertical-align: middle;\n",
       "    }\n",
       "\n",
       "    .dataframe tbody tr th {\n",
       "        vertical-align: top;\n",
       "    }\n",
       "\n",
       "    .dataframe thead th {\n",
       "        text-align: right;\n",
       "    }\n",
       "</style>\n",
       "<table border=\"1\" class=\"dataframe\">\n",
       "  <thead>\n",
       "    <tr style=\"text-align: right;\">\n",
       "      <th></th>\n",
       "      <th>category_name_Animation</th>\n",
       "      <th>category_name_Children</th>\n",
       "      <th>category_name_Classics</th>\n",
       "      <th>category_name_Comedy</th>\n",
       "      <th>category_name_Documentary</th>\n",
       "      <th>category_name_Drama</th>\n",
       "      <th>category_name_Family</th>\n",
       "      <th>category_name_Foreign</th>\n",
       "      <th>category_name_Games</th>\n",
       "      <th>category_name_Horror</th>\n",
       "      <th>...</th>\n",
       "      <th>special_features_Deleted Scenes</th>\n",
       "      <th>special_features_Deleted Scenes,Behind the Scenes</th>\n",
       "      <th>special_features_Trailers</th>\n",
       "      <th>special_features_Trailers,Behind the Scenes</th>\n",
       "      <th>special_features_Trailers,Commentaries</th>\n",
       "      <th>special_features_Trailers,Commentaries,Behind the Scenes</th>\n",
       "      <th>special_features_Trailers,Commentaries,Deleted Scenes</th>\n",
       "      <th>special_features_Trailers,Commentaries,Deleted Scenes,Behind the Scenes</th>\n",
       "      <th>special_features_Trailers,Deleted Scenes</th>\n",
       "      <th>special_features_Trailers,Deleted Scenes,Behind the Scenes</th>\n",
       "    </tr>\n",
       "  </thead>\n",
       "  <tbody>\n",
       "    <tr>\n",
       "      <th>0</th>\n",
       "      <td>0.0</td>\n",
       "      <td>0.0</td>\n",
       "      <td>0.0</td>\n",
       "      <td>0.0</td>\n",
       "      <td>1.0</td>\n",
       "      <td>0.0</td>\n",
       "      <td>0.0</td>\n",
       "      <td>0.0</td>\n",
       "      <td>0.0</td>\n",
       "      <td>0.0</td>\n",
       "      <td>...</td>\n",
       "      <td>0.0</td>\n",
       "      <td>1.0</td>\n",
       "      <td>0.0</td>\n",
       "      <td>0.0</td>\n",
       "      <td>0.0</td>\n",
       "      <td>0.0</td>\n",
       "      <td>0.0</td>\n",
       "      <td>0.0</td>\n",
       "      <td>0.0</td>\n",
       "      <td>0.0</td>\n",
       "    </tr>\n",
       "    <tr>\n",
       "      <th>1</th>\n",
       "      <td>0.0</td>\n",
       "      <td>0.0</td>\n",
       "      <td>0.0</td>\n",
       "      <td>0.0</td>\n",
       "      <td>0.0</td>\n",
       "      <td>0.0</td>\n",
       "      <td>0.0</td>\n",
       "      <td>0.0</td>\n",
       "      <td>0.0</td>\n",
       "      <td>1.0</td>\n",
       "      <td>...</td>\n",
       "      <td>0.0</td>\n",
       "      <td>0.0</td>\n",
       "      <td>0.0</td>\n",
       "      <td>0.0</td>\n",
       "      <td>0.0</td>\n",
       "      <td>0.0</td>\n",
       "      <td>0.0</td>\n",
       "      <td>0.0</td>\n",
       "      <td>1.0</td>\n",
       "      <td>0.0</td>\n",
       "    </tr>\n",
       "    <tr>\n",
       "      <th>2</th>\n",
       "      <td>0.0</td>\n",
       "      <td>0.0</td>\n",
       "      <td>0.0</td>\n",
       "      <td>0.0</td>\n",
       "      <td>1.0</td>\n",
       "      <td>0.0</td>\n",
       "      <td>0.0</td>\n",
       "      <td>0.0</td>\n",
       "      <td>0.0</td>\n",
       "      <td>0.0</td>\n",
       "      <td>...</td>\n",
       "      <td>0.0</td>\n",
       "      <td>0.0</td>\n",
       "      <td>0.0</td>\n",
       "      <td>0.0</td>\n",
       "      <td>0.0</td>\n",
       "      <td>0.0</td>\n",
       "      <td>0.0</td>\n",
       "      <td>0.0</td>\n",
       "      <td>1.0</td>\n",
       "      <td>0.0</td>\n",
       "    </tr>\n",
       "    <tr>\n",
       "      <th>3</th>\n",
       "      <td>0.0</td>\n",
       "      <td>0.0</td>\n",
       "      <td>0.0</td>\n",
       "      <td>0.0</td>\n",
       "      <td>0.0</td>\n",
       "      <td>0.0</td>\n",
       "      <td>0.0</td>\n",
       "      <td>0.0</td>\n",
       "      <td>0.0</td>\n",
       "      <td>1.0</td>\n",
       "      <td>...</td>\n",
       "      <td>0.0</td>\n",
       "      <td>0.0</td>\n",
       "      <td>0.0</td>\n",
       "      <td>0.0</td>\n",
       "      <td>0.0</td>\n",
       "      <td>0.0</td>\n",
       "      <td>0.0</td>\n",
       "      <td>0.0</td>\n",
       "      <td>0.0</td>\n",
       "      <td>0.0</td>\n",
       "    </tr>\n",
       "    <tr>\n",
       "      <th>4</th>\n",
       "      <td>0.0</td>\n",
       "      <td>0.0</td>\n",
       "      <td>0.0</td>\n",
       "      <td>0.0</td>\n",
       "      <td>0.0</td>\n",
       "      <td>0.0</td>\n",
       "      <td>1.0</td>\n",
       "      <td>0.0</td>\n",
       "      <td>0.0</td>\n",
       "      <td>0.0</td>\n",
       "      <td>...</td>\n",
       "      <td>1.0</td>\n",
       "      <td>0.0</td>\n",
       "      <td>0.0</td>\n",
       "      <td>0.0</td>\n",
       "      <td>0.0</td>\n",
       "      <td>0.0</td>\n",
       "      <td>0.0</td>\n",
       "      <td>0.0</td>\n",
       "      <td>0.0</td>\n",
       "      <td>0.0</td>\n",
       "    </tr>\n",
       "  </tbody>\n",
       "</table>\n",
       "<p>5 rows × 33 columns</p>\n",
       "</div>"
      ],
      "text/plain": [
       "   category_name_Animation  category_name_Children  category_name_Classics  \\\n",
       "0                      0.0                     0.0                     0.0   \n",
       "1                      0.0                     0.0                     0.0   \n",
       "2                      0.0                     0.0                     0.0   \n",
       "3                      0.0                     0.0                     0.0   \n",
       "4                      0.0                     0.0                     0.0   \n",
       "\n",
       "   category_name_Comedy  category_name_Documentary  category_name_Drama  \\\n",
       "0                   0.0                        1.0                  0.0   \n",
       "1                   0.0                        0.0                  0.0   \n",
       "2                   0.0                        1.0                  0.0   \n",
       "3                   0.0                        0.0                  0.0   \n",
       "4                   0.0                        0.0                  0.0   \n",
       "\n",
       "   category_name_Family  category_name_Foreign  category_name_Games  \\\n",
       "0                   0.0                    0.0                  0.0   \n",
       "1                   0.0                    0.0                  0.0   \n",
       "2                   0.0                    0.0                  0.0   \n",
       "3                   0.0                    0.0                  0.0   \n",
       "4                   1.0                    0.0                  0.0   \n",
       "\n",
       "   category_name_Horror  ...  special_features_Deleted Scenes  \\\n",
       "0                   0.0  ...                              0.0   \n",
       "1                   1.0  ...                              0.0   \n",
       "2                   0.0  ...                              0.0   \n",
       "3                   1.0  ...                              0.0   \n",
       "4                   0.0  ...                              1.0   \n",
       "\n",
       "   special_features_Deleted Scenes,Behind the Scenes  \\\n",
       "0                                                1.0   \n",
       "1                                                0.0   \n",
       "2                                                0.0   \n",
       "3                                                0.0   \n",
       "4                                                0.0   \n",
       "\n",
       "   special_features_Trailers  special_features_Trailers,Behind the Scenes  \\\n",
       "0                        0.0                                          0.0   \n",
       "1                        0.0                                          0.0   \n",
       "2                        0.0                                          0.0   \n",
       "3                        0.0                                          0.0   \n",
       "4                        0.0                                          0.0   \n",
       "\n",
       "   special_features_Trailers,Commentaries  \\\n",
       "0                                     0.0   \n",
       "1                                     0.0   \n",
       "2                                     0.0   \n",
       "3                                     0.0   \n",
       "4                                     0.0   \n",
       "\n",
       "   special_features_Trailers,Commentaries,Behind the Scenes  \\\n",
       "0                                                0.0          \n",
       "1                                                0.0          \n",
       "2                                                0.0          \n",
       "3                                                0.0          \n",
       "4                                                0.0          \n",
       "\n",
       "   special_features_Trailers,Commentaries,Deleted Scenes  \\\n",
       "0                                                0.0       \n",
       "1                                                0.0       \n",
       "2                                                0.0       \n",
       "3                                                0.0       \n",
       "4                                                0.0       \n",
       "\n",
       "   special_features_Trailers,Commentaries,Deleted Scenes,Behind the Scenes  \\\n",
       "0                                                0.0                         \n",
       "1                                                0.0                         \n",
       "2                                                0.0                         \n",
       "3                                                0.0                         \n",
       "4                                                0.0                         \n",
       "\n",
       "   special_features_Trailers,Deleted Scenes  \\\n",
       "0                                       0.0   \n",
       "1                                       1.0   \n",
       "2                                       1.0   \n",
       "3                                       0.0   \n",
       "4                                       0.0   \n",
       "\n",
       "   special_features_Trailers,Deleted Scenes,Behind the Scenes  \n",
       "0                                                0.0           \n",
       "1                                                0.0           \n",
       "2                                                0.0           \n",
       "3                                                0.0           \n",
       "4                                                0.0           \n",
       "\n",
       "[5 rows x 33 columns]"
      ]
     },
     "execution_count": 19,
     "metadata": {},
     "output_type": "execute_result"
    }
   ],
   "source": [
    "# Add column names to the dataframe\n",
    "categorical.columns = encoder.get_feature_names_out()\n",
    "categorical.head()"
   ]
  },
  {
   "cell_type": "markdown",
   "id": "58a1603c",
   "metadata": {},
   "source": [
    "### Train-Test Split and Training Model"
   ]
  },
  {
   "cell_type": "code",
   "execution_count": 23,
   "id": "76be1efd",
   "metadata": {},
   "outputs": [],
   "source": [
    "y = data['rentals'] # Our TARGET. We want to predict if Movie will be rented next month(0 and 1).\n",
    "#X = pd.concat((numerical, categorical), axis=1) #concats numerical variables and encoded categorical variables\n",
    "\n",
    "X = pd.concat((numerical, categorical), axis=1)"
   ]
  },
  {
   "cell_type": "code",
   "execution_count": 24,
   "id": "abb6a318",
   "metadata": {},
   "outputs": [
    {
     "data": {
      "text/plain": [
       "(1000, 38)"
      ]
     },
     "execution_count": 24,
     "metadata": {},
     "output_type": "execute_result"
    }
   ],
   "source": [
    "X.shape"
   ]
  },
  {
   "cell_type": "code",
   "execution_count": 25,
   "id": "57d4e7d1",
   "metadata": {},
   "outputs": [],
   "source": [
    "# Separating training and testing datasets\n",
    "\n",
    "X_train, X_test, y_train, y_test = train_test_split(X, y, test_size=0.3, random_state=100) #30% for test set 70% for train test."
   ]
  },
  {
   "cell_type": "code",
   "execution_count": 35,
   "id": "e92d2bb4",
   "metadata": {
    "scrolled": true
   },
   "outputs": [
    {
     "data": {
      "text/plain": [
       "(300, 38)"
      ]
     },
     "execution_count": 35,
     "metadata": {},
     "output_type": "execute_result"
    }
   ],
   "source": [
    "X_test.shape"
   ]
  },
  {
   "cell_type": "code",
   "execution_count": 27,
   "id": "7b30a1ac",
   "metadata": {
    "scrolled": true
   },
   "outputs": [
    {
     "data": {
      "text/plain": [
       "(700, 38)"
      ]
     },
     "execution_count": 27,
     "metadata": {},
     "output_type": "execute_result"
    }
   ],
   "source": [
    "X_train.shape"
   ]
  },
  {
   "cell_type": "code",
   "execution_count": 40,
   "id": "f813b16f",
   "metadata": {},
   "outputs": [],
   "source": [
    "# Training our data using Logistic Regression\n",
    "\n",
    "classification = LogisticRegression(random_state=0, solver='lbfgs',\n",
    "                  multi_class='ovr').fit(X_train, y_train)   "
   ]
  },
  {
   "cell_type": "code",
   "execution_count": 41,
   "id": "ab4765eb",
   "metadata": {},
   "outputs": [],
   "source": [
    "# How well did our model perform? Let's check the predictions (We predict on the testing dataset)\n",
    "\n",
    "predictions = classification.predict(X_test)\n"
   ]
  },
  {
   "cell_type": "code",
   "execution_count": 42,
   "id": "7d684ed5",
   "metadata": {
    "scrolled": true
   },
   "outputs": [
    {
     "data": {
      "text/plain": [
       "1    287\n",
       "0     13\n",
       "dtype: int64"
      ]
     },
     "execution_count": 42,
     "metadata": {},
     "output_type": "execute_result"
    }
   ],
   "source": [
    "pd.Series(predictions).value_counts() "
   ]
  },
  {
   "cell_type": "code",
   "execution_count": 43,
   "id": "c4edfcc7",
   "metadata": {},
   "outputs": [
    {
     "data": {
      "text/plain": [
       "1    287\n",
       "0     13\n",
       "Name: rentals, dtype: int64"
      ]
     },
     "execution_count": 43,
     "metadata": {},
     "output_type": "execute_result"
    }
   ],
   "source": [
    "#Let's check the real/True values\n",
    "\n",
    "y_test.value_counts() "
   ]
  },
  {
   "cell_type": "markdown",
   "id": "96e5bd68",
   "metadata": {},
   "source": [
    "#### Confusion Matrix to Evaluate Performance of Model"
   ]
  },
  {
   "cell_type": "code",
   "execution_count": 44,
   "id": "af23e67f",
   "metadata": {},
   "outputs": [],
   "source": [
    "from sklearn import metrics\n",
    "confusion_matrix = metrics.confusion_matrix(y_test, predictions)"
   ]
  },
  {
   "cell_type": "code",
   "execution_count": 45,
   "id": "5528b836",
   "metadata": {
    "scrolled": false
   },
   "outputs": [
    {
     "data": {
      "image/png": "[encoded data removed]",
      "text/plain": [
       "<Figure size 640x480 with 2 Axes>"
      ]
     },
     "metadata": {},
     "output_type": "display_data"
    }
   ],
   "source": [
    "cm_display = metrics.ConfusionMatrixDisplay(confusion_matrix = confusion_matrix, display_labels = [False, True])\n",
    "cm_display.plot()\n",
    "plt.show()"
   ]
  },
  {
   "cell_type": "markdown",
   "id": "1b43a1ee",
   "metadata": {},
   "source": [
    "287 values were True and I predicted 287."
   ]
  },
  {
   "cell_type": "code",
   "execution_count": 56,
   "id": "3af3dc2b",
   "metadata": {},
   "outputs": [
    {
     "data": {
      "text/plain": [
       "1.0"
      ]
     },
     "execution_count": 56,
     "metadata": {},
     "output_type": "execute_result"
    }
   ],
   "source": [
    "# Accuracy\n",
    "classification.score(X_test, y_test)\n",
    "\n",
    "# Accuracy of 100%"
   ]
  },
  {
   "cell_type": "code",
   "execution_count": null,
   "id": "b6ad8168",
   "metadata": {},
   "outputs": [],
   "source": [
    "#Create dataframe for visualising the differences between True and Predicted values\n",
    "\n",
    "results = pd.DataFrame()\n",
    "results['true'] = y_test\n",
    "results['pred'] = predictions\n",
    "results['diff'] = results.apply(lambda x: abs(x['true'] - x['pred']), axis=1)\n",
    "results"
   ]
  }
 ],
 "metadata": {
  "kernelspec": {
   "display_name": "Python 3 (ipykernel)",
   "language": "python",
   "name": "python3"
  },
  "language_info": {
   "codemirror_mode": {
    "name": "ipython",
    "version": 3
   },
   "file_extension": ".py",
   "mimetype": "text/x-python",
   "name": "python",
   "nbconvert_exporter": "python",
   "pygments_lexer": "ipython3",
   "version": "3.9.13"
  }
 },
 "nbformat": 4,
 "nbformat_minor": 5
}
